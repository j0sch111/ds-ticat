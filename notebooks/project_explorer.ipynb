{
 "cells": [
  {
   "cell_type": "markdown",
   "metadata": {},
   "source": [
    "### Getting Started with you Notebook\n",
    "\n",
    "#### 1. Select your interpreter\n",
    "- [Press 'Cmd + Shift + P' and enter 'Select Notebook Kernel'](https://code.visualstudio.com/docs/datascience/jupyter-notebooks) or click 'Select Kernel' on the top right ↗️↗️↗️  \n",
    "\n",
    "<img src=\"../docs/images/select_kernel.png\" alt=\"drawing\" width=\"400\"/>  \n",
    "  \n",
    "\n",
    "\n",
    "\n",
    "- Choose 'Python Environments'  \n",
    "\n",
    "<img src=\"../docs/images/python_envs.png\" alt=\"drawing\" width=\"400\"/>  \n",
    "\n",
    "- Select the default recommended option (Note: it *should* be stored in your project .pixi directory)  \n",
    "  \n",
    "  \n",
    "<img src=\"../docs/images/select_default.png\" alt=\"drawing\" width=\"400\"/>\n",
    "\n"
   ]
  },
  {
   "cell_type": "markdown",
   "metadata": {},
   "source": [
    "#### 2. Test your imports\n",
    "- The cells below ensures your local package is imported correctly as well as pixi dependencies "
   ]
  },
  {
   "cell_type": "markdown",
   "metadata": {},
   "source": [
    "⚠️ Note: If you're making updates to your local code, you'll need to restart the kernel to get around object caching"
   ]
  },
  {
   "cell_type": "code",
   "execution_count": null,
   "metadata": {},
   "outputs": [],
   "source": [
    "# Check local package imports correctly\n",
    "from  src.ds_ticat.ModelManager import ModelManager\n",
    "\n",
    "PROJECT_ROOT = \"/home/j0sch111/github/ds-ticat\"\n",
    "\n",
    "print(\"Creating ModelManager instance...\")\n",
    "model_manager = ModelManager(project_root=PROJECT_ROOT)\n",
    "\n",
    "# Validate setup\n",
    "model_manager.validate_setup()"
   ]
  },
  {
   "cell_type": "markdown",
   "metadata": {},
   "source": [
    "## Optional: Experiment Tracking"
   ]
  },
  {
   "cell_type": "code",
   "execution_count": null,
   "metadata": {},
   "outputs": [],
   "source": [
    "from src_labs.experiment_tracking.meta_tracker import MetaTrackerFactory, TrackerConfig, TrackerType\n",
    "\n",
    "PROJECT_NAME = \"Red-Zebra\"\n",
    "configs = [\n",
    "    TrackerConfig(TrackerType.WANDB),                          # Uncomment to add more trackers\n",
    "    #TrackerConfig(TrackerType.NEPTUNE, project=PROJECT_NAME),\n",
    "    #TrackerConfig(TrackerType.COMET, workspace=\"ryanatsevwork-gmail-com\", project_name=PROJECT_NAME),\n",
    "    #TrackerConfig(TrackerType.MLFLOW, tracking_uri=\"http://127.0.0.1:5000\")\n",
    "]\n",
    "\n",
    "meta_tracker = MetaTrackerFactory.create_meta_tracker(configs)\n",
    "\n",
    "# Use meta_tracker as before\n",
    "try:\n",
    "    meta_tracker.start_run(PROJECT_NAME, tags={\"version\": \"1.0\"})\n",
    "    print(\"MetaTracker run started successfully\")\n",
    "except Exception as e:\n",
    "    print(f\"Error starting MetaTracker run: {str(e)}\")\n",
    "    print(\"Some trackers may have failed to initialize. Check individual tracker logs for details.\")\n"
   ]
  },
  {
   "cell_type": "code",
   "execution_count": null,
   "metadata": {},
   "outputs": [],
   "source": [
    "\n",
    "# Train the model\n",
    "model_training_manager = ModelManager(project_root=PROJECT_ROOT, experiment_tracker=meta_tracker)\n",
    "model_training_manager.train()\n",
    "\n",
    "# Make predictions\n",
    "print(\"\\nMaking predictions...\")\n",
    "positive_text = \"This product is fantastic!\"\n",
    "negative_text = \"I'm disappointed with this service.\"\n",
    "\n",
    "label, confidence = model_training_manager.predict(positive_text)\n",
    "print(f\"Prediction for '{positive_text}': {label} (Confidence: {confidence:.2f})\")\n",
    "\n",
    "label, confidence = model_training_manager.predict(negative_text)\n",
    "print(f\"Prediction for '{negative_text}': {label} (Confidence: {confidence:.2f})\")\n",
    "\n",
    "# Print project info\n",
    "print(\"\\nProject Information:\")\n",
    "project_info = model_training_manager.get_project_info()\n",
    "for key, value in project_info.items():\n",
    "    print(f\"{key}: {value}\")"
   ]
  },
  {
   "cell_type": "markdown",
   "metadata": {},
   "source": [
    "## Containerizing your model"
   ]
  },
  {
   "cell_type": "markdown",
   "metadata": {},
   "source": [
    "The following takes the demo model code and packages so that we can run inference with it. One, by running a lambda locally, the other via sagemaker. These can subsequently be deployed to AWS quickly as we start to prototype with models"
   ]
  },
  {
   "cell_type": "code",
   "execution_count": null,
   "metadata": {},
   "outputs": [],
   "source": [
    "from infrastructure.containers.utils.container_client_utils import ContainerClientUtils\n",
    "\n",
    "process = ContainerClientUtils.start_model_containers()"
   ]
  },
  {
   "cell_type": "markdown",
   "metadata": {},
   "source": [
    "#### Lambda\n",
    "\n",
    "This is defined in ./infrastructure/lambda and starts a container that conforms to the AWS lambda API. It's not suitable for larger GPU based models but could be a suitable solution for cheaply deploying small models with variable traffic"
   ]
  },
  {
   "cell_type": "code",
   "execution_count": null,
   "metadata": {},
   "outputs": [],
   "source": [
    "print(\"Calling Lambda Container:\")\n",
    "lambda_text_input = \"thats awesome! I love it!\"\n",
    "lambda_result = ContainerClientUtils.call_lambda_container(lambda_text_input)"
   ]
  },
  {
   "cell_type": "markdown",
   "metadata": {},
   "source": [
    "#### Sagemaker\n",
    "\n",
    "Much more robust model hosting platform that offers full GPU support and combining of multiple models per endpoint. Downsides are expense and always on architecture. Defined in [../infrastructure/sagemaker](vscode://file/Users/ryanpasecky/workplace/ds-meta/infrastructure/sagemaker))"
   ]
  },
  {
   "cell_type": "markdown",
   "metadata": {},
   "source": []
  },
  {
   "cell_type": "code",
   "execution_count": null,
   "metadata": {},
   "outputs": [],
   "source": [
    "print(\"\\nCalling SageMaker Container:\")\n",
    "sagemaker_text_input = \"thats awesome! no way!\"\n",
    "sagemaker_result = ContainerClientUtils.call_sagemaker_container(sagemaker_text_input)"
   ]
  },
  {
   "cell_type": "markdown",
   "metadata": {},
   "source": [
    "#### Integration testing\n",
    "\n",
    "We've also configured an integration testing suite which can be used to test our code from end to end. For now\n",
    "it's defined using the popular pytest, and run from a third container defined in [/infrastructure/containers/Dockerfile_IntegrationTests/](vscode://file//home/j0sch111/github/ds-ticat/test/integration/)"
   ]
  },
  {
   "cell_type": "code",
   "execution_count": null,
   "metadata": {},
   "outputs": [],
   "source": [
    "import subprocess\n",
    "DOCKER_DIR = \"/home/j0sch111/github/ds-ticat/infrastructure/containers\"\n",
    "\n",
    "process = subprocess.Popen([\"docker\", \"compose\", \"--project-directory\", DOCKER_DIR, \"up\"])"
   ]
  },
  {
   "cell_type": "code",
   "execution_count": null,
   "metadata": {},
   "outputs": [],
   "source": [
    "print(\"Hello\")"
   ]
  }
 ],
 "metadata": {
  "kernelspec": {
   "display_name": "Python 3",
   "language": "python",
   "name": "python3"
  },
  "language_info": {
   "codemirror_mode": {
    "name": "ipython",
    "version": 3
   },
   "file_extension": ".py",
   "mimetype": "text/x-python",
   "name": "python",
   "nbconvert_exporter": "python",
   "pygments_lexer": "ipython3",
   "version": "3.12.4"
  }
 },
 "nbformat": 4,
 "nbformat_minor": 2
}
